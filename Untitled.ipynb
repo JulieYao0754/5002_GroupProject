{
 "cells": [
  {
   "cell_type": "code",
   "execution_count": null,
   "metadata": {},
   "outputs": [],
   "source": [
    "# original traversing find missing value \n",
    "path = \"\"\n",
    "air_quality_df = pd.read_csv(path, index_col=None)\n",
    "\n",
    "def traverse_head_tail(aq_df):\n",
    "    aq_cols = aq_df.columns\n",
    "    l = aq_df.shape[0]\n",
    "    wd_size = 5\n",
    "    \n",
    "    for each_col in aq_cols:\n",
    "        col = aq_df[each_col]\n",
    "        head = 1\n",
    "        tail = l-2\n",
    "        \n",
    "        # make sure these 2 are not na\n",
    "        not_na_top = col.iloc[0]\n",
    "        not_na_bot = col.iloc[l-1]\n",
    "        \n",
    "        while(tail >= head):\n",
    "            # this row is na\n",
    "            if col.iloc[head].isna():\n",
    "                curr = head               \n",
    "                for i in range(head,(head+wd_size)):\n",
    "                    if not col.iloc[i].isna():\n",
    "                        # record newest not na value\n",
    "                        not_na_top = col.iloc[i]\n",
    "                        # record \n",
    "                        head = i                       \n",
    "                        break\n",
    "                else:\n",
    "                    head = head + wd_size\n",
    "                    \n",
    "                \n",
    "                # rows above not null\n",
    "                if not col.iloc[head-1].isna():\n",
    "                    col.iloc[head] = np.mean([col.iloc[head-1],col.iloc[head+1]])\n",
    "                         \n",
    "            head += 1\n",
    "            tail -= 1   "
   ]
  },
  {
   "cell_type": "code",
   "execution_count": null,
   "metadata": {},
   "outputs": [],
   "source": []
  }
 ],
 "metadata": {
  "kernelspec": {
   "display_name": "Python 3",
   "language": "python",
   "name": "python3"
  },
  "language_info": {
   "codemirror_mode": {
    "name": "ipython",
    "version": 3
   },
   "file_extension": ".py",
   "mimetype": "text/x-python",
   "name": "python",
   "nbconvert_exporter": "python",
   "pygments_lexer": "ipython3",
   "version": "3.6.5"
  }
 },
 "nbformat": 4,
 "nbformat_minor": 2
}
