{
 "cells": [
  {
   "cell_type": "markdown",
   "metadata": {},
   "source": [
    "### join air quality and grid weather data"
   ]
  },
  {
   "cell_type": "code",
   "execution_count": 1,
   "metadata": {},
   "outputs": [],
   "source": [
    "import pandas as pd\n",
    "import numpy as np"
   ]
  },
  {
   "cell_type": "code",
   "execution_count": 2,
   "metadata": {},
   "outputs": [],
   "source": [
    "# air quality data path\n",
    "aq_data_path = \"./data/air_quality_fillthree.csv\"\n",
    "gw_data_path = \"./data/grid_weather_1701_1804.csv\"\n",
    "geo_info_path = \"./data/geo_info_new.csv\""
   ]
  },
  {
   "cell_type": "code",
   "execution_count": 13,
   "metadata": {},
   "outputs": [],
   "source": [
    "aq_new_data_path = './data/air_quality_full.csv'"
   ]
  },
  {
   "cell_type": "code",
   "execution_count": 14,
   "metadata": {},
   "outputs": [],
   "source": [
    "aq_df_new = pd.read_csv(aq_new_data_path,index_col=0)"
   ]
  },
  {
   "cell_type": "code",
   "execution_count": 7,
   "metadata": {},
   "outputs": [],
   "source": [
    "aq_df = pd.read_csv(aq_data_path,index_col=0)\n",
    "gw_df = pd.read_csv(gw_data_path,index_col=None)\n",
    "geo_info = pd.read_csv(geo_info_path,index_col=None)"
   ]
  },
  {
   "cell_type": "code",
   "execution_count": 8,
   "metadata": {},
   "outputs": [],
   "source": [
    "def join_aq_gw(aq,gw,geo_info,start_time,end_time):\n",
    "    aq = aq[(aq.time >= start_time) & (aq.time <= end_time)]\n",
    "    gw = gw[(gw.time >= start_time) & (gw.time <= end_time)]\n",
    "    \n",
    "    # find unique gw_name in geo_info dataframe\n",
    "    near_gw_stations = geo_info.nearest_gw.unique()\n",
    "    # filter these gw_station from gw_df\n",
    "    near_gw_df = gw[gw.stationId.isin(near_gw_stations)]\n",
    "    \n",
    "    # first join air quality data and geo_info to add aq_station's nearest gw_station\n",
    "    geo_info = geo_info.rename(columns={\"aq_name\":\"stationId\"})\n",
    "    aq_gw_foreign = geo_info[[\"stationId\",\"nearest_gw\"]]\n",
    "    intermediate = aq.join(aq_gw_foreign.set_index(\"stationId\"),on=\"stationId\")\n",
    "    \n",
    "    nearest_gw_df = gw.rename(columns={\"stationId\":\"nearest_gw\"})\n",
    "    \n",
    "    # then join intermediate with grid_data\n",
    "    joined = intermediate.join(nearest_gw_df.set_index([\"nearest_gw\",\"time\"]), on=[\"nearest_gw\",\"time\"])\n",
    "    \n",
    "    return joined"
   ]
  },
  {
   "cell_type": "code",
   "execution_count": 9,
   "metadata": {},
   "outputs": [],
   "source": [
    "joined = join_aq_gw(aq_df, gw_df, geo_info,\"2017-01-01 00:00:00\",\"2018-04-30 23:00:00\")"
   ]
  },
  {
   "cell_type": "code",
   "execution_count": 10,
   "metadata": {},
   "outputs": [
    {
     "name": "stdout",
     "output_type": "stream",
     "text": [
      "<class 'pandas.core.frame.DataFrame'>\n",
      "Int64Index: 406910 entries, 0 to 406909\n",
      "Data columns (total 16 columns):\n",
      "stationId         406910 non-null object\n",
      "time              406910 non-null object\n",
      "PM2.5             366417 non-null float64\n",
      "PM10              308543 non-null float64\n",
      "O3                367745 non-null float64\n",
      "year              406910 non-null int64\n",
      "month             406910 non-null int64\n",
      "day               406910 non-null int64\n",
      "weekday           406910 non-null int64\n",
      "hour              406910 non-null int64\n",
      "nearest_gw        406910 non-null object\n",
      "humidity          402920 non-null float64\n",
      "pressure          402920 non-null float64\n",
      "temperature       402920 non-null float64\n",
      "wind_direction    402920 non-null float64\n",
      "wind_speed        402920 non-null float64\n",
      "dtypes: float64(8), int64(5), object(3)\n",
      "memory usage: 52.8+ MB\n"
     ]
    }
   ],
   "source": [
    "joined.info()"
   ]
  },
  {
   "cell_type": "code",
   "execution_count": 12,
   "metadata": {},
   "outputs": [],
   "source": [
    "joined.to_csv('./data/total_data_without_aqfull.csv')"
   ]
  },
  {
   "cell_type": "code",
   "execution_count": 16,
   "metadata": {},
   "outputs": [],
   "source": [
    "joined_new = join_aq_gw(aq_df_new, gw_df, geo_info,\"2017-01-01 00:00:00\",\"2018-04-30 23:00:00\")\n",
    "joined_new.to_csv('./data/total_data.csv')"
   ]
  }
 ],
 "metadata": {
  "kernelspec": {
   "display_name": "Python 3",
   "language": "python",
   "name": "python3"
  },
  "language_info": {
   "codemirror_mode": {
    "name": "ipython",
    "version": 3
   },
   "file_extension": ".py",
   "mimetype": "text/x-python",
   "name": "python",
   "nbconvert_exporter": "python",
   "pygments_lexer": "ipython3",
   "version": "3.6.5"
  }
 },
 "nbformat": 4,
 "nbformat_minor": 2
}
