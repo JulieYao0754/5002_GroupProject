{
 "cells": [
  {
   "cell_type": "code",
   "execution_count": 1,
   "metadata": {},
   "outputs": [],
   "source": [
    "import pandas as pd\n",
    "import datetime\n",
    "data_path = './data/'"
   ]
  },
  {
   "cell_type": "code",
   "execution_count": 2,
   "metadata": {},
   "outputs": [],
   "source": [
    "timeFrom = datetime.datetime.strptime('2017-01-01 14:00:00', \"%Y-%m-%d %H:%M:%S\")\n",
    "timeTo = datetime.datetime.strptime('2018-04-30 23:00:00', \"%Y-%m-%d %H:%M:%S\")\n",
    "Hours_Delta = pd.date_range(timeFrom, timeTo, freq='H').strftime('%Y-%m-%d %H:%M:%S')"
   ]
  },
  {
   "cell_type": "code",
   "execution_count": 13,
   "metadata": {},
   "outputs": [],
   "source": [
    "time_info = pd.DataFrame(Hours_Delta, columns=['time'])"
   ]
  },
  {
   "cell_type": "code",
   "execution_count": 14,
   "metadata": {},
   "outputs": [],
   "source": [
    "time_info['time_dt'] = pd.to_datetime(time_info['time'])"
   ]
  },
  {
   "cell_type": "markdown",
   "metadata": {},
   "source": [
    "**For weekday, 0 means Mon, and 6 means Sat.**"
   ]
  },
  {
   "cell_type": "code",
   "execution_count": 22,
   "metadata": {},
   "outputs": [],
   "source": [
    "time_info['year'] = time_info.apply(lambda row: row[1].year, axis=1)\n",
    "time_info['month'] = time_info.apply(lambda row: row[1].month, axis=1)\n",
    "time_info['day'] = time_info.apply(lambda row: row[1].day, axis=1)\n",
    "time_info['weekday'] = time_info.apply(lambda row: row[1].weekday(), axis=1)\n",
    "time_info['hour'] = time_info.apply(lambda row: row[1].hour, axis=1)"
   ]
  },
  {
   "cell_type": "code",
   "execution_count": 24,
   "metadata": {},
   "outputs": [],
   "source": [
    "time_info.to_csv(data_path+'time_info.csv')"
   ]
  },
  {
   "cell_type": "markdown",
   "metadata": {},
   "source": [
    "**Bulid features about holidays, workdays, etc.**"
   ]
  }
 ],
 "metadata": {
  "kernelspec": {
   "display_name": "Python 3",
   "language": "python",
   "name": "python3"
  },
  "language_info": {
   "codemirror_mode": {
    "name": "ipython",
    "version": 3
   },
   "file_extension": ".py",
   "mimetype": "text/x-python",
   "name": "python",
   "nbconvert_exporter": "python",
   "pygments_lexer": "ipython3",
   "version": "3.6.5"
  }
 },
 "nbformat": 4,
 "nbformat_minor": 2
}
