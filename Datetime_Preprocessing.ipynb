{
 "cells": [
  {
   "cell_type": "code",
   "execution_count": 1,
   "metadata": {},
   "outputs": [],
   "source": [
    "import pandas as pd\n",
    "import datetime\n",
    "data_path = './data/'"
   ]
  },
  {
   "cell_type": "code",
   "execution_count": 2,
   "metadata": {},
   "outputs": [],
   "source": [
    "timeFrom = datetime.datetime.strptime('2017-01-01 14:00:00', \"%Y-%m-%d %H:%M:%S\")\n",
    "timeTo = datetime.datetime.strptime('2018-05-02 23:00:00', \"%Y-%m-%d %H:%M:%S\")\n",
    "Hours_Delta = pd.date_range(timeFrom, timeTo, freq='H').strftime('%Y-%m-%d %H:%M:%S')"
   ]
  },
  {
   "cell_type": "code",
   "execution_count": 3,
   "metadata": {},
   "outputs": [],
   "source": [
    "time_info = pd.DataFrame(Hours_Delta, columns=['time'])"
   ]
  },
  {
   "cell_type": "code",
   "execution_count": 4,
   "metadata": {},
   "outputs": [],
   "source": [
    "time_info['time_dt'] = pd.to_datetime(time_info['time'])"
   ]
  },
  {
   "cell_type": "markdown",
   "metadata": {},
   "source": [
    "**For weekday, 0 means Mon, and 6 means Sat.**"
   ]
  },
  {
   "cell_type": "code",
   "execution_count": 5,
   "metadata": {},
   "outputs": [],
   "source": [
    "time_info['year'] = time_info.apply(lambda row: row[1].year, axis=1)\n",
    "time_info['month'] = time_info.apply(lambda row: row[1].month, axis=1)\n",
    "time_info['day'] = time_info.apply(lambda row: row[1].day, axis=1)\n",
    "time_info['weekday'] = time_info.apply(lambda row: row[1].weekday(), axis=1)\n",
    "time_info['hour'] = time_info.apply(lambda row: row[1].hour, axis=1)"
   ]
  },
  {
   "cell_type": "code",
   "execution_count": 8,
   "metadata": {},
   "outputs": [],
   "source": [
    "time_info.to_csv(data_path+'time_info.csv')"
   ]
  },
  {
   "cell_type": "markdown",
   "metadata": {},
   "source": [
    "**Bulid features about holidays, workdays, etc.**"
   ]
  },
  {
   "cell_type": "code",
   "execution_count": null,
   "metadata": {},
   "outputs": [],
   "source": [
    "columns = [\"date\",\"is_weekend\",\"is_holiday\",\"is_holiday_first\",\\\n",
    "           \"is_holiday_last\",\"is_working\",\"is_working_first\",\"is_working_last\"]"
   ]
  },
  {
   "cell_type": "code",
   "execution_count": null,
   "metadata": {},
   "outputs": [],
   "source": [
    "holiday = [\"2017-01-01\",\"2017-01-02\",\"2017-01-27\",\"2017-01-28\",\"2017-01-29\",\"2017-01-30\"\n",
    "           ,\"2017-01-31\",\"2017-02-01\",\"2017-02-02\",\"2017-04-02\",\"2017-04-03\"\n",
    "           ,\"2017-04-04\",\"2017-05-01\",\"2017-05-28\",\"2017-05-29\",\"2017-05-30\"\n",
    "           ,\"2017-10-01\",\"2017-10-02\",\"2017-10-03\",\"2017-10-04\",\"2017-10-05\"\n",
    "           ,\"2017-10-06\",\"2017-10-07\",\"2017-10-08\",\"2017-04-29\",\"2017-04-30\"\n",
    "           ,\"2017-12-30\",\"2017-12-31\",\"2018-01-01\"\n",
    "           ,\"2018-02-15\",\"2018-02-16\",\"2018-02-17\",\"2018-02-18\",\"2018-02-19\"\n",
    "           ,\"2018-02-20\",\"2018-02-21\",\"2018-04-05\",\"2018-04-06\",\"2018-04-07\"\n",
    "           ,\"2018-04-29\",\"2018-04-30\",\"2018-05-01\"]\n",
    "\n",
    "compliment = [\"2017-01-22\",\"2017-02-04\",\"2017-04-01\",\"2017-05-27\",\"2017-09-30\"\n",
    "             ,\"2018-02-11\",\"2018-02-24\",\"2018-04-08\",\"2018-04-28\"]"
   ]
  },
  {
   "cell_type": "code",
   "execution_count": null,
   "metadata": {},
   "outputs": [],
   "source": [
    "is_holiday_first = [\"2017-01-27\",\"2017-04-02\",\"2017-04-29\",\"2017-05-28\"\n",
    "                   ,\"2017-10-01\",\"2017-12-30\",\"2018-02-15\",\"2018-04-05\"\n",
    "                   ,\"2018-04-29\"]\n",
    "is_holiday_last = [\"2017-01-02\",\"2017-02-02\",\"2017-04-04\",\"2017-05-01\"\n",
    "                  ,\"2017-05-30\",\"2017-10-08\",\"2018-01-01\",\"2018-02-21\"\n",
    "                  ,\"2018-04-07\",\"2018-05-01\"]"
   ]
  },
  {
   "cell_type": "code",
   "execution_count": null,
   "metadata": {},
   "outputs": [],
   "source": [
    "timeFrom = datetime.strptime('2017-01-01', \"%Y-%m-%d\")\n",
    "timeTo = datetime.strptime('2018-04-30', \"%Y-%m-%d\")\n",
    "Days_Delta = pd.date_range(timeFrom, timeTo, freq='D').strftime(\"%Y-%m-%d\")\n",
    "Days_Delta"
   ]
  },
  {
   "cell_type": "code",
   "execution_count": null,
   "metadata": {},
   "outputs": [],
   "source": [
    "holiday_info = pd.DataFrame(data=Hours_Delta,columns=[\"date\"])\n",
    "holiday_info.info()"
   ]
  },
  {
   "cell_type": "code",
   "execution_count": null,
   "metadata": {},
   "outputs": [],
   "source": [
    "df_length = 485\n",
    "\n",
    "# 2017-01-01 is Sunday\n",
    "def find_weekend(df):\n",
    "    df[\"is_weekend\"] = 0\n",
    "    sunday = datetime.strptime('2017-01-01', \"%Y-%m-%d\")\n",
    "    cond = pd.date_range(sunday,df[\"date\"],freq=\"D\")\n",
    "    if len(cond) % 7 < 2:\n",
    "        df[\"is_weekend\"] = 1\n",
    "        \n",
    "    return df\n",
    "\n",
    "def find_holiday(df):\n",
    "    if df[\"date\"] in holiday:\n",
    "        df[\"is_holiday\"] = 1\n",
    "    else:\n",
    "        df[\"is_holiday\"] = 0\n",
    "    return df\n",
    "\n",
    "def find_working(df):\n",
    "    df[\"is_working\"] = 1\n",
    "    # first find weekend\n",
    "    if df[\"is_weekend\"] == 1 or df[\"is_holiday\"] == 1:\n",
    "        df[\"is_working\"] = 0\n",
    "    if df[\"date\"] in compliment:\n",
    "        df[\"is_working\"] = 1        \n",
    "    return df\n",
    "\n",
    "# still need to deal with the first day and last day situation manually!\n",
    "def find_first_last(is_working):\n",
    "    is_holiday_first = [0] * df_length\n",
    "    is_holiday_last = [0] * df_length\n",
    "    is_working_first = [0] * df_length\n",
    "    is_working_last = [0] * df_length\n",
    "    \n",
    "    for i in range(1, len(is_working)-1):        \n",
    "        # holiday\n",
    "        if is_working[i] == 0:\n",
    "            # holiday first\n",
    "            if is_working[i-1] == 1 and is_working[i+1] == 0:\n",
    "                is_holiday_first[i] = 1\n",
    "            # holiday last\n",
    "            if is_working[i-1] == 0 and is_working[i+1] == 1:\n",
    "                is_holiday_last[i] = 1\n",
    "                \n",
    "        # working day\n",
    "        else:\n",
    "            # working first\n",
    "            if is_working[i-1] == 0 and is_working[i+1] == 1:\n",
    "                is_working_first[i] = 1\n",
    "            # working last\n",
    "            if is_working[i-1] == 1 and is_working[i+1] == 0:\n",
    "                is_working_last[i] = 1\n",
    "    \n",
    "    return [is_holiday_first,is_holiday_last,is_working_first,is_working_last]"
   ]
  },
  {
   "cell_type": "code",
   "execution_count": null,
   "metadata": {},
   "outputs": [],
   "source": [
    "holiday_info = holiday_info.apply(find_weekend,axis=1)\n",
    "holiday_info = holiday_info.apply(find_holiday,axis=1)\n",
    "holiday_info = holiday_info.apply(find_working,axis=1)\n",
    "is_working = list(holiday_info[\"is_working\"])\n",
    "first_last = find_first_last(is_working)"
   ]
  },
  {
   "cell_type": "code",
   "execution_count": null,
   "metadata": {},
   "outputs": [],
   "source": [
    "first_last_df = pd.DataFrame(columns=[\"is_holiday_first\",\"is_holiday_last\",\"is_working_first\",\"is_working_last\"])\n",
    "first_last_df[\"is_holiday_first\"] = first_last[0]\n",
    "first_last_df[\"is_holiday_last\"] = first_last[1]\n",
    "first_last_df[\"is_working_first\"] = first_last[2]\n",
    "first_last_df[\"is_working_last\"] = first_last[3]\n",
    "first_last_df[\"date\"] = Days_Delta\n",
    "\n",
    "# deal with first and last\n",
    "# no need to deal with the first and last in this case"
   ]
  },
  {
   "cell_type": "code",
   "execution_count": null,
   "metadata": {},
   "outputs": [],
   "source": [
    "date_info = holiday_info.join(first_last_df.set_index(\"date\"),on=\"date\")"
   ]
  },
  {
   "cell_type": "code",
   "execution_count": null,
   "metadata": {},
   "outputs": [],
   "source": [
    "# read time_info.csv and join holiday_info and origin info togeter\n",
    "time_info_df = pd.read_csv(\"./data/time_info.csv\",index_col=0)\n",
    "\n",
    "# need to split time column to join\n",
    "def split_time(df):\n",
    "    df[\"date\"] = df[\"time\"].split(\" \")[0]   \n",
    "    return df\n",
    "\n",
    "time_info_df = time_info_df.apply(split_time,axis=1)\n",
    "whole_df = time_info_df.join(date_info.set_index(\"date\"),on=\"date\")"
   ]
  },
  {
   "cell_type": "code",
   "execution_count": null,
   "metadata": {},
   "outputs": [],
   "source": [
    "# whole_df = whole_df.drop(\"date\",axis=1)\n",
    "whole_df.to_csv(\"./data/holiday_info.csv\",index=None)"
   ]
  }
 ],
 "metadata": {
  "kernelspec": {
   "display_name": "Python 3",
   "language": "python",
   "name": "python3"
  },
  "language_info": {
   "codemirror_mode": {
    "name": "ipython",
    "version": 3
   },
   "file_extension": ".py",
   "mimetype": "text/x-python",
   "name": "python",
   "nbconvert_exporter": "python",
   "pygments_lexer": "ipython3",
   "version": "3.6.5"
  }
 },
 "nbformat": 4,
 "nbformat_minor": 2
}
