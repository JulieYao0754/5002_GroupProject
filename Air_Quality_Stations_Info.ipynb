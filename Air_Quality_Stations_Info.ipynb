{
 "cells": [
  {
   "cell_type": "code",
   "execution_count": 1,
   "metadata": {},
   "outputs": [],
   "source": [
    "import xlrd\n",
    "data_path = './data/MSBD5002PROJECT_data/'\n",
    "file_name = 'Beijing_AirQuality_Stations_en.xlsx'"
   ]
  },
  {
   "cell_type": "code",
   "execution_count": 10,
   "metadata": {},
   "outputs": [],
   "source": [
    "import pandas as pd"
   ]
  },
  {
   "cell_type": "code",
   "execution_count": 2,
   "metadata": {},
   "outputs": [],
   "source": [
    "table = xlrd.open_workbook(data_path+file_name).sheet_by_name(u'Sheet1')"
   ]
  },
  {
   "cell_type": "code",
   "execution_count": 24,
   "metadata": {},
   "outputs": [],
   "source": [
    "rows = table.nrows\n",
    "# the first eight rows are infor of pollutants.\n",
    "stations = []\n",
    "stations_col = []\n",
    "for i in range(10, rows):\n",
    "    if i == 10:\n",
    "        stations_col = table.row_values(i)+ ['station_type']\n",
    "    else:\n",
    "        cur_row = [cell for cell in filter(None, table.row_values(i))]\n",
    "        if len(cur_row) == 1:\n",
    "            station_type = cur_row[0]\n",
    "        elif len(cur_row) == 3:\n",
    "            station_info = cur_row + [station_type]\n",
    "            stations.append(station_info)\n",
    "station_df = pd.DataFrame(stations, columns=stations_col)"
   ]
  },
  {
   "cell_type": "code",
   "execution_count": 33,
   "metadata": {},
   "outputs": [],
   "source": [
    "station_df.rename(columns={'Station ID':'stationId'}, inplace=True)"
   ]
  },
  {
   "cell_type": "code",
   "execution_count": 36,
   "metadata": {},
   "outputs": [],
   "source": [
    "station_df.to_csv('./data/air_quality_station_info.csv')"
   ]
  }
 ],
 "metadata": {
  "kernelspec": {
   "display_name": "Python 3",
   "language": "python",
   "name": "python3"
  },
  "language_info": {
   "codemirror_mode": {
    "name": "ipython",
    "version": 3
   },
   "file_extension": ".py",
   "mimetype": "text/x-python",
   "name": "python",
   "nbconvert_exporter": "python",
   "pygments_lexer": "ipython3",
   "version": "3.6.5"
  }
 },
 "nbformat": 4,
 "nbformat_minor": 2
}
