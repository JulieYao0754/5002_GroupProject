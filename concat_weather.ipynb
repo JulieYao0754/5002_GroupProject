{
 "cells": [
  {
   "cell_type": "code",
   "execution_count": 2,
   "metadata": {},
   "outputs": [],
   "source": [
    "import pandas as pd\n",
    "import numpy as np"
   ]
  },
  {
   "cell_type": "markdown",
   "metadata": {},
   "source": [
    "## concat grid weather data from 201701 to 201804"
   ]
  },
  {
   "cell_type": "code",
   "execution_count": 28,
   "metadata": {},
   "outputs": [],
   "source": [
    "grid_17_18 = pd.read_csv(\"../MSBD5002PROJECT_data/gridWeather_201701-201803.csv\")\n",
    "grid_04 = pd.read_csv(\"../MSBD5002PROJECT_data/grid_04_all_filled.csv\")"
   ]
  },
  {
   "cell_type": "code",
   "execution_count": 29,
   "metadata": {},
   "outputs": [],
   "source": [
    "# drop different columns\n",
    "grid_17_18 = grid_17_18.rename(columns={\"utc_time\":\"time\",\"stationName\":\"stationId\",\"wind_speed/kph\":\"wind_speed\"})\n",
    "# grid_17_18[\"time\"] = grid_17_18[\"utc_time\"]\n",
    "# grid_17_18[\"station_id\"] = grid_17_18[\"stationName\"]\n",
    "# grid_17_18[\"wind_speed\"] = grid_17_18[\"wind_speed/kph\"]\n",
    "grid_17_18 = grid_17_18.drop([\"longitude\",\"latitude\"],axis=1)"
   ]
  },
  {
   "cell_type": "code",
   "execution_count": 30,
   "metadata": {},
   "outputs": [],
   "source": [
    "grid_04 = grid_04.rename(columns={\"station_id\":\"stationId\"})"
   ]
  },
  {
   "cell_type": "code",
   "execution_count": 32,
   "metadata": {},
   "outputs": [
    {
     "name": "stdout",
     "output_type": "stream",
     "text": [
      "<class 'pandas.core.frame.DataFrame'>\n",
      "RangeIndex: 468720 entries, 0 to 468719\n",
      "Data columns (total 7 columns):\n",
      "humidity          468720 non-null float64\n",
      "pressure          468720 non-null float64\n",
      "stationId         468720 non-null object\n",
      "temperature       468720 non-null float64\n",
      "time              468720 non-null object\n",
      "wind_direction    468720 non-null float64\n",
      "wind_speed        468720 non-null float64\n",
      "dtypes: float64(5), object(2)\n",
      "memory usage: 25.0+ MB\n",
      "<class 'pandas.core.frame.DataFrame'>\n",
      "RangeIndex: 7034706 entries, 0 to 7034705\n",
      "Data columns (total 7 columns):\n",
      "stationId         object\n",
      "time              object\n",
      "temperature       float64\n",
      "pressure          float64\n",
      "humidity          float64\n",
      "wind_direction    float64\n",
      "wind_speed        float64\n",
      "dtypes: float64(5), object(2)\n",
      "memory usage: 375.7+ MB\n"
     ]
    }
   ],
   "source": [
    "grid_04.info()\n",
    "grid_17_18.info()"
   ]
  },
  {
   "cell_type": "code",
   "execution_count": 33,
   "metadata": {},
   "outputs": [
    {
     "name": "stderr",
     "output_type": "stream",
     "text": [
      "D:\\Anaconda3\\envs\\stats\\lib\\site-packages\\ipykernel_launcher.py:1: FutureWarning: Sorting because non-concatenation axis is not aligned. A future version\n",
      "of pandas will change to not sort by default.\n",
      "\n",
      "To accept the future behavior, pass 'sort=False'.\n",
      "\n",
      "To retain the current behavior and silence the warning, pass 'sort=True'.\n",
      "\n",
      "  \"\"\"Entry point for launching an IPython kernel.\n"
     ]
    }
   ],
   "source": [
    "grid_1701_1804 = pd.concat([grid_17_18,grid_04],ignore_index=True)"
   ]
  },
  {
   "cell_type": "code",
   "execution_count": 34,
   "metadata": {},
   "outputs": [],
   "source": [
    "pd.DataFrame.to_csv(grid_1701_1804,\"../MSBD5002PROJECT_data/grid_weather_1701_1804.csv\",index=None)"
   ]
  },
  {
   "cell_type": "markdown",
   "metadata": {},
   "source": [
    "## concat observed weather data from 201701 to 201804"
   ]
  },
  {
   "cell_type": "code",
   "execution_count": 2,
   "metadata": {},
   "outputs": [],
   "source": [
    "ow_17_18 = pd.read_csv(\"./data/MSBD5002PROJECT_data/observedWeather_201701-201801.csv\")\n",
    "ow_2_3 = pd.read_csv(\"./data/MSBD5002PROJECT_data/observedWeather_201802-201803.csv\")\n",
    "ow_4 = pd.read_csv(\"./data/MSBD5002PROJECT_data/observedWeather_201804.csv\")"
   ]
  },
  {
   "cell_type": "code",
   "execution_count": 3,
   "metadata": {},
   "outputs": [
    {
     "name": "stdout",
     "output_type": "stream",
     "text": [
      "<class 'pandas.core.frame.DataFrame'>\n",
      "RangeIndex: 158047 entries, 0 to 158046\n",
      "Data columns (total 10 columns):\n",
      "station_id        158047 non-null object\n",
      "longitude         158047 non-null float64\n",
      "latitude          158047 non-null float64\n",
      "utc_time          158047 non-null object\n",
      "temperature       158047 non-null float64\n",
      "pressure          158047 non-null float64\n",
      "humidity          158047 non-null int64\n",
      "wind_direction    157813 non-null float64\n",
      "wind_speed        157813 non-null float64\n",
      "weather           158047 non-null object\n",
      "dtypes: float64(6), int64(1), object(3)\n",
      "memory usage: 12.1+ MB\n"
     ]
    }
   ],
   "source": [
    "ow_17_18.info()"
   ]
  },
  {
   "cell_type": "code",
   "execution_count": null,
   "metadata": {},
   "outputs": [],
   "source": [
    "ow_17_18[\"time\"] = ow_17_18[\"utc_time\"]\n",
    "ow_17_18[\"station_id\"] = ow_17_18[\"stationName\"]\n",
    "ow_17_18 = ow_17_18.drop([\"utc_time\",\"stationName\",\"longitude\",\"latitude\"],axis=1)"
   ]
  },
  {
   "cell_type": "markdown",
   "metadata": {},
   "source": [
    "### function fill na value in air quality  |"
   ]
  },
  {
   "cell_type": "raw",
   "metadata": {},
   "source": [
    "aq_df = aq_df.interpolate(limit=3)"
   ]
  },
  {
   "cell_type": "raw",
   "metadata": {},
   "source": [
    "aq_df[(aq_df[\"stationId\"] == \"aotizhongxin_aq\") & \\\n",
    "      (aq_df[\"time\"] >= \"2017-03-08 00:00:00\")]"
   ]
  },
  {
   "cell_type": "raw",
   "metadata": {},
   "source": [
    "sr = pd.Series([0,1,np.nan,3,4,np.nan,np.nan,np.nan])\n",
    "sr.interpolate(limit=1)"
   ]
  },
  {
   "cell_type": "code",
   "execution_count": null,
   "metadata": {},
   "outputs": [],
   "source": []
  }
 ],
 "metadata": {
  "kernelspec": {
   "display_name": "Python 3",
   "language": "python",
   "name": "python3"
  },
  "language_info": {
   "codemirror_mode": {
    "name": "ipython",
    "version": 3
   },
   "file_extension": ".py",
   "mimetype": "text/x-python",
   "name": "python",
   "nbconvert_exporter": "python",
   "pygments_lexer": "ipython3",
   "version": "3.6.6"
  }
 },
 "nbformat": 4,
 "nbformat_minor": 2
}
